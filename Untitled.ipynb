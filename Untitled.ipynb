{
 "cells": [
  {
   "cell_type": "code",
   "execution_count": 14,
   "id": "7f7a42aa-69bf-47a3-9c39-78e37e7d3f8b",
   "metadata": {},
   "outputs": [
    {
     "name": "stderr",
     "output_type": "stream",
     "text": [
      "Downloading...\n",
      "From (original): https://drive.google.com/uc?id=1k4dllHpu0bdx38J7H28rVVLpU-kOHmnH\n",
      "From (redirected): https://drive.google.com/uc?id=1k4dllHpu0bdx38J7H28rVVLpU-kOHmnH&confirm=t&uuid=ad74c954-a389-49e3-b899-65cdad6d5a1c\n",
      "To: /Users/alexandermovchan/Self-Correction-Human-Parsing/checkpoints/final.pth\n",
      "100%|████████████████████████████████████████| 267M/267M [00:12<00:00, 21.3MB/s]\n"
     ]
    },
    {
     "data": {
      "text/plain": [
       "'checkpoints/final.pth'"
      ]
     },
     "execution_count": 14,
     "metadata": {},
     "output_type": "execute_result"
    }
   ],
   "source": [
    "import gdown\n",
    "\n",
    "url = 'https://drive.google.com/uc?id=1k4dllHpu0bdx38J7H28rVVLpU-kOHmnH''\n",
    "\n",
    "output = 'checkpoints/final.pth'\n",
    "gdown.download(url, output, quiet=False)\n"
   ]
  },
  {
   "cell_type": "code",
   "execution_count": 1,
   "id": "941dfae0-f387-453e-b11e-769aceda72c9",
   "metadata": {},
   "outputs": [],
   "source": [
    "from simple_extractor_macos import main"
   ]
  },
  {
   "cell_type": "code",
   "execution_count": 4,
   "id": "da448297-a19a-4d67-a1be-46700866a82a",
   "metadata": {},
   "outputs": [],
   "source": [
    "rm -rf ./input/.ipynb_checkpoints"
   ]
  },
  {
   "cell_type": "code",
   "execution_count": 2,
   "id": "f7565ad0-f331-421a-901e-1df9ec540704",
   "metadata": {},
   "outputs": [
    {
     "name": "stdout",
     "output_type": "stream",
     "text": [
      "📊 Dataset: LIP | Classes: 20\n"
     ]
    },
    {
     "name": "stderr",
     "output_type": "stream",
     "text": [
      "/Users/alexandermovchan/Self-Correction-Human-Parsing/simple_extractor_macos.py:61: FutureWarning: You are using `torch.load` with `weights_only=False` (the current default value), which uses the default pickle module implicitly. It is possible to construct malicious pickle data which will execute arbitrary code during unpickling (See https://github.com/pytorch/pytorch/blob/main/SECURITY.md#untrusted-models for more details). In a future release, the default value for `weights_only` will be flipped to `True`. This limits the functions that could be executed during unpickling. Arbitrary objects will no longer be allowed to be loaded via this mode unless they are explicitly allowlisted by the user via `torch.serialization.add_safe_globals`. We recommend you start setting `weights_only=True` for any use case where you don't have full control of the loaded file. Please open an issue on GitHub for any issues related to this experimental feature.\n",
      "  checkpoint = torch.load(model_path, map_location=device)\n",
      "100%|█████████████████████████████████████████████| 2/2 [00:05<00:00,  2.80s/it]"
     ]
    },
    {
     "name": "stdout",
     "output_type": "stream",
     "text": [
      "All results are saved in: ./result\n"
     ]
    },
    {
     "name": "stderr",
     "output_type": "stream",
     "text": [
      "\n"
     ]
    }
   ],
   "source": [
    "main(input_dir=\"./input\", output_dir=\"./result\", model_path=\"checkpoints/final.pth\") "
   ]
  },
  {
   "cell_type": "code",
   "execution_count": 22,
   "id": "047b579e-963b-4e48-b43e-10e92ae8b0f7",
   "metadata": {},
   "outputs": [
    {
     "name": "stdout",
     "output_type": "stream",
     "text": [
      "10549_00.jpg\n"
     ]
    }
   ],
   "source": [
    "!ls input\n"
   ]
  },
  {
   "cell_type": "code",
   "execution_count": 31,
   "id": "202cccff-1591-4c54-976a-609572002b12",
   "metadata": {},
   "outputs": [
    {
     "name": "stdout",
     "output_type": "stream",
     "text": [
      "['.ipynb_checkpoints', '10549_00.jpg']\n"
     ]
    }
   ],
   "source": [
    "import os\n",
    "print(os.listdir(\"./input\"))\n"
   ]
  },
  {
   "cell_type": "code",
   "execution_count": 42,
   "id": "5748eda5-4fc0-4dc2-9d17-1dbe9e49533a",
   "metadata": {},
   "outputs": [],
   "source": [
    "rm -rf ./input/.ipynb_checkpoints\n"
   ]
  },
  {
   "cell_type": "code",
   "execution_count": null,
   "id": "17d3375a-81b2-4c2f-86a8-9883cb1bee52",
   "metadata": {},
   "outputs": [],
   "source": []
  }
 ],
 "metadata": {
  "kernelspec": {
   "display_name": "Python 3 (ipykernel)",
   "language": "python",
   "name": "python3"
  },
  "language_info": {
   "codemirror_mode": {
    "name": "ipython",
    "version": 3
   },
   "file_extension": ".py",
   "mimetype": "text/x-python",
   "name": "python",
   "nbconvert_exporter": "python",
   "pygments_lexer": "ipython3",
   "version": "3.9.24"
  }
 },
 "nbformat": 4,
 "nbformat_minor": 5
}
